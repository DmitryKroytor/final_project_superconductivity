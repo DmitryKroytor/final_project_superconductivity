{
 "cells": [
  {
   "cell_type": "code",
   "id": "initial_id",
   "metadata": {
    "collapsed": true,
    "ExecuteTime": {
     "end_time": "2025-03-26T18:09:35.619641Z",
     "start_time": "2025-03-26T18:09:35.610328Z"
    }
   },
   "source": [
    "import pandas as pd\n",
    "from src.utils import process_data, parse_row_data\n",
    "import matplotlib.pyplot as plt"
   ],
   "outputs": [],
   "execution_count": 1
  },
  {
   "metadata": {},
   "cell_type": "markdown",
   "source": "# Parsing row data into csv files",
   "id": "eeb3525b37ca2e8a"
  },
  {
   "metadata": {},
   "cell_type": "markdown",
   "source": "## Declare path to folders (you need to create it first)",
   "id": "a9012411c4a7ffa2"
  },
  {
   "metadata": {
    "ExecuteTime": {
     "end_time": "2025-03-26T18:09:42.016789Z",
     "start_time": "2025-03-26T18:09:42.013328Z"
    }
   },
   "cell_type": "code",
   "source": [
    "vac_path = \"row_data/vac\"\n",
    "capture_map_path = \"row_data/capture_map\"\n",
    "output_path_vac = \"parsed_data/vac\"\n",
    "output_path_capture_map = \"parsed_data/capture_map\""
   ],
   "id": "4bae19c018957f1c",
   "outputs": [],
   "execution_count": 2
  },
  {
   "metadata": {},
   "cell_type": "markdown",
   "source": "If there is an unused column, name it \"delme\" to remove it during processing.",
   "id": "88be37016804d4dc"
  },
  {
   "metadata": {
    "ExecuteTime": {
     "end_time": "2025-03-26T18:09:45.521868Z",
     "start_time": "2025-03-26T18:09:45.512913Z"
    }
   },
   "cell_type": "code",
   "source": "parse_row_data(vac_path, output_path_vac, \"I,U,delme\")",
   "id": "cf4b89bfcf76f1bf",
   "outputs": [],
   "execution_count": 3
  },
  {
   "metadata": {
    "ExecuteTime": {
     "end_time": "2025-03-26T18:09:47.009746Z",
     "start_time": "2025-03-26T18:09:47.000772Z"
    }
   },
   "cell_type": "code",
   "source": "parse_row_data(capture_map_path, output_path_capture_map, \"x,y,delme,B\", 5)",
   "id": "a8364530499e3fef",
   "outputs": [],
   "execution_count": 4
  },
  {
   "metadata": {},
   "cell_type": "markdown",
   "source": "# Capture map processing",
   "id": "b5297153c9289344"
  },
  {
   "metadata": {
    "ExecuteTime": {
     "end_time": "2025-03-26T18:10:52.230190Z",
     "start_time": "2025-03-26T18:10:52.202561Z"
    }
   },
   "cell_type": "code",
   "source": [
    "capture_map_df = process_data(output_path_capture_map, \"capture_map\")\n",
    "capture_map_df"
   ],
   "id": "103e9d7a44e2ab98",
   "outputs": [
    {
     "data": {
      "text/plain": [
       "     title      mean       std       var\n",
       "0  129-4.2  0.118515  0.877461  0.769938\n",
       "1  128-1.2  0.269251  1.730237  2.993719\n",
       "2  128-2.1  0.301579  2.198325  4.832632\n",
       "3  128-2.2  0.358561  2.236473  5.001812\n",
       "4  128-3.1  0.160368  1.095029  1.199089\n",
       "5  128-3.2  0.171013  1.050701  1.103973"
      ],
      "text/html": [
       "<div>\n",
       "<style scoped>\n",
       "    .dataframe tbody tr th:only-of-type {\n",
       "        vertical-align: middle;\n",
       "    }\n",
       "\n",
       "    .dataframe tbody tr th {\n",
       "        vertical-align: top;\n",
       "    }\n",
       "\n",
       "    .dataframe thead th {\n",
       "        text-align: right;\n",
       "    }\n",
       "</style>\n",
       "<table border=\"1\" class=\"dataframe\">\n",
       "  <thead>\n",
       "    <tr style=\"text-align: right;\">\n",
       "      <th></th>\n",
       "      <th>title</th>\n",
       "      <th>mean</th>\n",
       "      <th>std</th>\n",
       "      <th>var</th>\n",
       "    </tr>\n",
       "  </thead>\n",
       "  <tbody>\n",
       "    <tr>\n",
       "      <th>0</th>\n",
       "      <td>129-4.2</td>\n",
       "      <td>0.118515</td>\n",
       "      <td>0.877461</td>\n",
       "      <td>0.769938</td>\n",
       "    </tr>\n",
       "    <tr>\n",
       "      <th>1</th>\n",
       "      <td>128-1.2</td>\n",
       "      <td>0.269251</td>\n",
       "      <td>1.730237</td>\n",
       "      <td>2.993719</td>\n",
       "    </tr>\n",
       "    <tr>\n",
       "      <th>2</th>\n",
       "      <td>128-2.1</td>\n",
       "      <td>0.301579</td>\n",
       "      <td>2.198325</td>\n",
       "      <td>4.832632</td>\n",
       "    </tr>\n",
       "    <tr>\n",
       "      <th>3</th>\n",
       "      <td>128-2.2</td>\n",
       "      <td>0.358561</td>\n",
       "      <td>2.236473</td>\n",
       "      <td>5.001812</td>\n",
       "    </tr>\n",
       "    <tr>\n",
       "      <th>4</th>\n",
       "      <td>128-3.1</td>\n",
       "      <td>0.160368</td>\n",
       "      <td>1.095029</td>\n",
       "      <td>1.199089</td>\n",
       "    </tr>\n",
       "    <tr>\n",
       "      <th>5</th>\n",
       "      <td>128-3.2</td>\n",
       "      <td>0.171013</td>\n",
       "      <td>1.050701</td>\n",
       "      <td>1.103973</td>\n",
       "    </tr>\n",
       "  </tbody>\n",
       "</table>\n",
       "</div>"
      ]
     },
     "execution_count": 5,
     "metadata": {},
     "output_type": "execute_result"
    }
   ],
   "execution_count": 5
  },
  {
   "metadata": {},
   "cell_type": "markdown",
   "source": "# VAC processing",
   "id": "1c030b26db8c26d3"
  },
  {
   "metadata": {
    "ExecuteTime": {
     "end_time": "2025-03-26T18:11:26.813206Z",
     "start_time": "2025-03-26T18:11:26.781223Z"
    }
   },
   "cell_type": "code",
   "source": [
    "vac_df = process_data(output_path_vac, \"vac\")\n",
    "vac_df"
   ],
   "id": "caab70d842891cf0",
   "outputs": [
    {
     "data": {
      "text/plain": [
       "     title      angle      slope  intercept\n",
       "0  128-1.2  88.134235  30.698145 -56.113315\n",
       "0  128-2.1  88.339694  34.499517 -70.242525\n",
       "0  128-2.2  88.370886  35.160428 -72.024727\n",
       "0  128-3.1  88.290390  33.503993 -54.493007\n",
       "0  128-3.2  88.511133  38.474139 -64.542153\n",
       "0  129-4.2  88.537500  39.168103 -59.356651"
      ],
      "text/html": [
       "<div>\n",
       "<style scoped>\n",
       "    .dataframe tbody tr th:only-of-type {\n",
       "        vertical-align: middle;\n",
       "    }\n",
       "\n",
       "    .dataframe tbody tr th {\n",
       "        vertical-align: top;\n",
       "    }\n",
       "\n",
       "    .dataframe thead th {\n",
       "        text-align: right;\n",
       "    }\n",
       "</style>\n",
       "<table border=\"1\" class=\"dataframe\">\n",
       "  <thead>\n",
       "    <tr style=\"text-align: right;\">\n",
       "      <th></th>\n",
       "      <th>title</th>\n",
       "      <th>angle</th>\n",
       "      <th>slope</th>\n",
       "      <th>intercept</th>\n",
       "    </tr>\n",
       "  </thead>\n",
       "  <tbody>\n",
       "    <tr>\n",
       "      <th>0</th>\n",
       "      <td>128-1.2</td>\n",
       "      <td>88.134235</td>\n",
       "      <td>30.698145</td>\n",
       "      <td>-56.113315</td>\n",
       "    </tr>\n",
       "    <tr>\n",
       "      <th>0</th>\n",
       "      <td>128-2.1</td>\n",
       "      <td>88.339694</td>\n",
       "      <td>34.499517</td>\n",
       "      <td>-70.242525</td>\n",
       "    </tr>\n",
       "    <tr>\n",
       "      <th>0</th>\n",
       "      <td>128-2.2</td>\n",
       "      <td>88.370886</td>\n",
       "      <td>35.160428</td>\n",
       "      <td>-72.024727</td>\n",
       "    </tr>\n",
       "    <tr>\n",
       "      <th>0</th>\n",
       "      <td>128-3.1</td>\n",
       "      <td>88.290390</td>\n",
       "      <td>33.503993</td>\n",
       "      <td>-54.493007</td>\n",
       "    </tr>\n",
       "    <tr>\n",
       "      <th>0</th>\n",
       "      <td>128-3.2</td>\n",
       "      <td>88.511133</td>\n",
       "      <td>38.474139</td>\n",
       "      <td>-64.542153</td>\n",
       "    </tr>\n",
       "    <tr>\n",
       "      <th>0</th>\n",
       "      <td>129-4.2</td>\n",
       "      <td>88.537500</td>\n",
       "      <td>39.168103</td>\n",
       "      <td>-59.356651</td>\n",
       "    </tr>\n",
       "  </tbody>\n",
       "</table>\n",
       "</div>"
      ]
     },
     "execution_count": 6,
     "metadata": {},
     "output_type": "execute_result"
    }
   ],
   "execution_count": 6
  },
  {
   "metadata": {},
   "cell_type": "markdown",
   "source": "# Join dataframes",
   "id": "12c80a3a579c6a0c"
  },
  {
   "metadata": {
    "ExecuteTime": {
     "end_time": "2025-03-26T18:11:40.618226Z",
     "start_time": "2025-03-26T18:11:40.608264Z"
    }
   },
   "cell_type": "code",
   "source": [
    "result_df = pd.merge(vac_df, capture_map_df, on='title', how='inner')\n",
    "result_df"
   ],
   "id": "7ac624e2e41f68d7",
   "outputs": [
    {
     "data": {
      "text/plain": [
       "     title      angle      slope  intercept      mean       std       var\n",
       "0  128-1.2  88.134235  30.698145 -56.113315  0.269251  1.730237  2.993719\n",
       "1  128-2.1  88.339694  34.499517 -70.242525  0.301579  2.198325  4.832632\n",
       "2  128-2.2  88.370886  35.160428 -72.024727  0.358561  2.236473  5.001812\n",
       "3  128-3.1  88.290390  33.503993 -54.493007  0.160368  1.095029  1.199089\n",
       "4  128-3.2  88.511133  38.474139 -64.542153  0.171013  1.050701  1.103973\n",
       "5  129-4.2  88.537500  39.168103 -59.356651  0.118515  0.877461  0.769938"
      ],
      "text/html": [
       "<div>\n",
       "<style scoped>\n",
       "    .dataframe tbody tr th:only-of-type {\n",
       "        vertical-align: middle;\n",
       "    }\n",
       "\n",
       "    .dataframe tbody tr th {\n",
       "        vertical-align: top;\n",
       "    }\n",
       "\n",
       "    .dataframe thead th {\n",
       "        text-align: right;\n",
       "    }\n",
       "</style>\n",
       "<table border=\"1\" class=\"dataframe\">\n",
       "  <thead>\n",
       "    <tr style=\"text-align: right;\">\n",
       "      <th></th>\n",
       "      <th>title</th>\n",
       "      <th>angle</th>\n",
       "      <th>slope</th>\n",
       "      <th>intercept</th>\n",
       "      <th>mean</th>\n",
       "      <th>std</th>\n",
       "      <th>var</th>\n",
       "    </tr>\n",
       "  </thead>\n",
       "  <tbody>\n",
       "    <tr>\n",
       "      <th>0</th>\n",
       "      <td>128-1.2</td>\n",
       "      <td>88.134235</td>\n",
       "      <td>30.698145</td>\n",
       "      <td>-56.113315</td>\n",
       "      <td>0.269251</td>\n",
       "      <td>1.730237</td>\n",
       "      <td>2.993719</td>\n",
       "    </tr>\n",
       "    <tr>\n",
       "      <th>1</th>\n",
       "      <td>128-2.1</td>\n",
       "      <td>88.339694</td>\n",
       "      <td>34.499517</td>\n",
       "      <td>-70.242525</td>\n",
       "      <td>0.301579</td>\n",
       "      <td>2.198325</td>\n",
       "      <td>4.832632</td>\n",
       "    </tr>\n",
       "    <tr>\n",
       "      <th>2</th>\n",
       "      <td>128-2.2</td>\n",
       "      <td>88.370886</td>\n",
       "      <td>35.160428</td>\n",
       "      <td>-72.024727</td>\n",
       "      <td>0.358561</td>\n",
       "      <td>2.236473</td>\n",
       "      <td>5.001812</td>\n",
       "    </tr>\n",
       "    <tr>\n",
       "      <th>3</th>\n",
       "      <td>128-3.1</td>\n",
       "      <td>88.290390</td>\n",
       "      <td>33.503993</td>\n",
       "      <td>-54.493007</td>\n",
       "      <td>0.160368</td>\n",
       "      <td>1.095029</td>\n",
       "      <td>1.199089</td>\n",
       "    </tr>\n",
       "    <tr>\n",
       "      <th>4</th>\n",
       "      <td>128-3.2</td>\n",
       "      <td>88.511133</td>\n",
       "      <td>38.474139</td>\n",
       "      <td>-64.542153</td>\n",
       "      <td>0.171013</td>\n",
       "      <td>1.050701</td>\n",
       "      <td>1.103973</td>\n",
       "    </tr>\n",
       "    <tr>\n",
       "      <th>5</th>\n",
       "      <td>129-4.2</td>\n",
       "      <td>88.537500</td>\n",
       "      <td>39.168103</td>\n",
       "      <td>-59.356651</td>\n",
       "      <td>0.118515</td>\n",
       "      <td>0.877461</td>\n",
       "      <td>0.769938</td>\n",
       "    </tr>\n",
       "  </tbody>\n",
       "</table>\n",
       "</div>"
      ]
     },
     "execution_count": 7,
     "metadata": {},
     "output_type": "execute_result"
    }
   ],
   "execution_count": 7
  },
  {
   "metadata": {
    "ExecuteTime": {
     "end_time": "2025-03-26T18:12:41.927924Z",
     "start_time": "2025-03-26T18:12:41.923757Z"
    }
   },
   "cell_type": "code",
   "source": "result_df.to_csv('../data/data.csv', index=False)",
   "id": "38389719b0ea1fe8",
   "outputs": [],
   "execution_count": 9
  },
  {
   "metadata": {},
   "cell_type": "code",
   "outputs": [],
   "execution_count": null,
   "source": "",
   "id": "2a22bb8caae6edc4"
  }
 ],
 "metadata": {
  "kernelspec": {
   "display_name": "Python 3",
   "language": "python",
   "name": "python3"
  },
  "language_info": {
   "codemirror_mode": {
    "name": "ipython",
    "version": 2
   },
   "file_extension": ".py",
   "mimetype": "text/x-python",
   "name": "python",
   "nbconvert_exporter": "python",
   "pygments_lexer": "ipython2",
   "version": "2.7.6"
  }
 },
 "nbformat": 4,
 "nbformat_minor": 5
}
